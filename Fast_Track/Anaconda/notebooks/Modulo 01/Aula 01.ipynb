{
 "cells": [
  {
   "cell_type": "markdown",
   "metadata": {},
   "source": [
    "# Aula 01 | Python Operadores Matemáticos e Logicos"
   ]
  },
  {
   "cell_type": "code",
   "execution_count": 1,
   "metadata": {},
   "outputs": [
    {
     "name": "stdout",
     "output_type": "stream",
     "text": [
      "Olá Mundo!\n"
     ]
    }
   ],
   "source": [
    "# Faça um programa que mostre a mensagem \"Olá Mundo!\" na tela.\n",
    "print(\"Olá Mundo!\")"
   ]
  },
  {
   "cell_type": "code",
   "execution_count": 2,
   "metadata": {},
   "outputs": [
    {
     "name": "stdout",
     "output_type": "stream",
     "text": [
      "Digite um número: 10\n",
      "O número informado foi 10.\n"
     ]
    }
   ],
   "source": [
    "# Faça um programa que peça um número e então mostre a mensagem \"O número informado foi [número]\".\n",
    "numero = input('Digite um número: ')\n",
    "print(f'O número informado foi {numero}.')"
   ]
  },
  {
   "cell_type": "markdown",
   "metadata": {},
   "source": [
    "### Operadores Matemáticos:\n",
    "\n",
    "| Operador           | Símbolo |\n",
    "|:------------------- |:-------:|\n",
    "| Soma               | +       |\n",
    "| Subtração          | -       |\n",
    "| Multiplicação      | *       |\n",
    "| Divisão            | /       |\n",
    "| Divisão Inteira    | //      |\n",
    "| Resto da Divisão   | %       |\n",
    "| Exponenciação      | **      |\n",
    "| Incremento         | +=      |\n",
    "| Decremento         | -=      |\n",
    "| Multiplicação      | *=      |\n",
    "| Divisão            | /=      |\n",
    "| Divisão Inteira    | //=     |\n",
    "| Resto da Divisão   | %=      |\n",
    "\n"
   ]
  },
  {
   "cell_type": "code",
   "execution_count": 17,
   "metadata": {},
   "outputs": [
    {
     "name": "stdout",
     "output_type": "stream",
     "text": [
      "Informe o primeiro número: 10\n",
      "Informe o segundo número: 5\n",
      "A soma dos dois números é 15.\n"
     ]
    }
   ],
   "source": [
    "# Faça um programa que peça dois números e imprima a soma.\n",
    "numero1 = int(input('Informe o primeiro número: '))\n",
    "numero2 = int(input('Informe o segundo número: '))\n",
    "\n",
    "print(f'A soma dos dois números é {numero1 + numero2}.')\n"
   ]
  },
  {
   "cell_type": "code",
   "execution_count": 18,
   "metadata": {},
   "outputs": [
    {
     "name": "stdout",
     "output_type": "stream",
     "text": [
      "A soma dos dois números é 15\n",
      "A subtração dos dois números é 5\n",
      "A multiplicação dos dois números é 50\n",
      "A divisão dos dois números é 2.0\n",
      "A divisão inteira dos dois números é 2\n",
      "O resto da divisão dos dois números é 0\n",
      "10 elevado a 5 é 100000\n",
      "Incrementando 1 ao primeiro número: 11\n",
      "Decrementando 1 ao segundo número: 4\n",
      "Multiplicando o primeiro número por 2: 22\n",
      "Dividindo o segundo número por 2: 2.0\n",
      "Dividindo inteiramente o primeiro número por 3: 7\n",
      "O resto da divisão do segundo número por 3 é: 2.0\n"
     ]
    }
   ],
   "source": [
    "# Soma\n",
    "numero1 = 10\n",
    "numero2 = 5\n",
    "soma = numero1 + numero2\n",
    "print(f'A soma dos dois números é {soma}')\n",
    "\n",
    "# Subtração\n",
    "subtracao = numero1 - numero2\n",
    "print(f'A subtração dos dois números é {subtracao}')\n",
    "\n",
    "# Multiplicação\n",
    "multiplicacao = numero1 * numero2\n",
    "print(f'A multiplicação dos dois números é {multiplicacao}')\n",
    "\n",
    "# Divisão\n",
    "divisao = numero1 / numero2\n",
    "print(f'A divisão dos dois números é {divisao}')\n",
    "\n",
    "# Divisão Inteira\n",
    "divisao_inteira = numero1 // numero2\n",
    "print(f'A divisão inteira dos dois números é {divisao_inteira}')\n",
    "\n",
    "# Resto da Divisão\n",
    "resto_divisao = numero1 % numero2\n",
    "print(f'O resto da divisão dos dois números é {resto_divisao}')\n",
    "\n",
    "# Exponenciação\n",
    "exponenciacao = numero1 ** numero2\n",
    "print(f'{numero1} elevado a {numero2} é {exponenciacao}')\n",
    "\n",
    "# Incremento\n",
    "numero1 += 1\n",
    "print(f'Incrementando 1 ao primeiro número: {numero1}')\n",
    "\n",
    "# Decremento\n",
    "numero2 -= 1\n",
    "print(f'Decrementando 1 ao segundo número: {numero2}')\n",
    "\n",
    "# Multiplicação acumulativa\n",
    "numero1 *= 2\n",
    "print(f'Multiplicando o primeiro número por 2: {numero1}')\n",
    "\n",
    "# Divisão acumulativa\n",
    "numero2 /= 2\n",
    "print(f'Dividindo o segundo número por 2: {numero2}')\n",
    "\n",
    "# Divisão inteira acumulativa\n",
    "numero1 //= 3\n",
    "print(f'Dividindo inteiramente o primeiro número por 3: {numero1}')\n",
    "\n",
    "# Resto da Divisão acumulativa\n",
    "numero2 %= 3\n",
    "print(f'O resto da divisão do segundo número por 3 é: {numero2}')\n"
   ]
  },
  {
   "cell_type": "markdown",
   "metadata": {},
   "source": [
    "### Operadores lógicos:\n",
    "\n",
    "| Operador   | Símbolo |\n",
    "|:-----------|:-------:|\n",
    "| E (and)    | and     |\n",
    "| OU (or)    | or      |\n",
    "| NÃO (not)  | not     |"
   ]
  },
  {
   "cell_type": "code",
   "execution_count": 19,
   "metadata": {},
   "outputs": [
    {
     "name": "stdout",
     "output_type": "stream",
     "text": [
      "Resultado do operador AND: False\n",
      "Resultado do operador OR: True\n",
      "Resultado do operador NOT para valor1: False\n"
     ]
    }
   ],
   "source": [
    "# Operadores Lógicos\n",
    "valor1 = True\n",
    "valor2 = False\n",
    "\n",
    "# AND\n",
    "resultado_and = valor1 and valor2\n",
    "print(f'Resultado do operador AND: {resultado_and}')\n",
    "\n",
    "# OR\n",
    "resultado_or = valor1 or valor2\n",
    "print(f'Resultado do operador OR: {resultado_or}')\n",
    "\n",
    "# NOT\n",
    "resultado_not = not valor1\n",
    "print(f'Resultado do operador NOT para valor1: {resultado_not}')\n"
   ]
  },
  {
   "cell_type": "code",
   "execution_count": null,
   "metadata": {},
   "outputs": [],
   "source": []
  }
 ],
 "metadata": {
  "kernelspec": {
   "display_name": "Python 3",
   "language": "python",
   "name": "python3"
  },
  "language_info": {
   "codemirror_mode": {
    "name": "ipython",
    "version": 3
   },
   "file_extension": ".py",
   "mimetype": "text/x-python",
   "name": "python",
   "nbconvert_exporter": "python",
   "pygments_lexer": "ipython3",
   "version": "3.8.8"
  }
 },
 "nbformat": 4,
 "nbformat_minor": 2
}
