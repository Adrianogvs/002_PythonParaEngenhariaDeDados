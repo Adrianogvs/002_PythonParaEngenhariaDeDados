{
 "cells": [
  {
   "cell_type": "code",
   "execution_count": 1,
   "metadata": {},
   "outputs": [
    {
     "name": "stdout",
     "output_type": "stream",
     "text": [
      "Olá Mundo!\n"
     ]
    }
   ],
   "source": [
    "# Faça um programa que mostre a mensagem \"Olá Mundo!\" na tela.\n",
    "print(\"Olá Mundo!\")"
   ]
  },
  {
   "cell_type": "code",
   "execution_count": 5,
   "metadata": {},
   "outputs": [
    {
     "name": "stdout",
     "output_type": "stream",
     "text": [
      "Digite um número: 10\n",
      "O número informado foi 10.\n"
     ]
    }
   ],
   "source": [
    "# Faça um programa que peça um número e então mostre a mensagem \"O número informado foi [número]\".\n",
    "numero = input('Digite um número: ')\n",
    "print(f'O número informado foi {numero}.')"
   ]
  },
  {
   "cell_type": "code",
   "execution_count": 7,
   "metadata": {},
   "outputs": [
    {
     "name": "stdout",
     "output_type": "stream",
     "text": [
      "Informe o primeiro número: 10\n",
      "Informe o segundo número: 10\n",
      "A soma dos dois números é 20.\n"
     ]
    }
   ],
   "source": [
    "# Faça um programa que peça dois números e imprima a soma.\n",
    "numero1 = int(input('Informe o primeiro número: '))\n",
    "numero2 = int(input('Informe o segundo número: '))\n",
    "\n",
    "print(f'A soma dos dois números é {numero1 + numero2}.')\n"
   ]
  },
  {
   "cell_type": "markdown",
   "metadata": {},
   "source": [
    "#### Operadores matemáticos\n",
    "\n",
    "| Operador           | Simbolo |\n",
    "|:------------------- |:-------:|\n",
    "| soma               | +       |\n",
    "| subtração          | -       |\n",
    "| multiplicação      | *       |\n",
    "| divisão            | /       |\n",
    "| divisão inteira    | //      |\n",
    "| resto da divisão   | %       |\n"
   ]
  },
  {
   "cell_type": "code",
   "execution_count": null,
   "metadata": {},
   "outputs": [],
   "source": []
  },
  {
   "cell_type": "code",
   "execution_count": null,
   "metadata": {},
   "outputs": [],
   "source": []
  },
  {
   "cell_type": "code",
   "execution_count": null,
   "metadata": {},
   "outputs": [],
   "source": []
  },
  {
   "cell_type": "code",
   "execution_count": null,
   "metadata": {},
   "outputs": [],
   "source": []
  },
  {
   "cell_type": "code",
   "execution_count": null,
   "metadata": {},
   "outputs": [],
   "source": []
  }
 ],
 "metadata": {
  "kernelspec": {
   "display_name": "Python 3 (ipykernel)",
   "language": "python",
   "name": "python3"
  },
  "language_info": {
   "codemirror_mode": {
    "name": "ipython",
    "version": 3
   },
   "file_extension": ".py",
   "mimetype": "text/x-python",
   "name": "python",
   "nbconvert_exporter": "python",
   "pygments_lexer": "ipython3",
   "version": "3.11.5"
  }
 },
 "nbformat": 4,
 "nbformat_minor": 2
}
