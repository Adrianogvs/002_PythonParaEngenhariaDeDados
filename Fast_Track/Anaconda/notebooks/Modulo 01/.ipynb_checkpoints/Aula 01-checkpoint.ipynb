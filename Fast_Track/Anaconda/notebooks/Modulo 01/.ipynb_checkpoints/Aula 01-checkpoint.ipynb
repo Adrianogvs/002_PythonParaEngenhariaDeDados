{
 "cells": [
  {
   "cell_type": "code",
   "execution_count": 1,
   "metadata": {},
   "outputs": [
    {
     "name": "stdout",
     "output_type": "stream",
     "text": [
      "Olá Mundo!\n"
     ]
    }
   ],
   "source": [
    "# Faça um programa que mostre a mensagem \"Olá Mundo!\" na tela.\n",
    "print(\"Olá Mundo!\")"
   ]
  },
  {
   "cell_type": "code",
   "execution_count": 2,
   "metadata": {},
   "outputs": [
    {
     "ename": "NameError",
     "evalue": "name 'imput' is not defined",
     "output_type": "error",
     "traceback": [
      "\u001b[0;31m---------------------------------------------------------------------------\u001b[0m",
      "\u001b[0;31mNameError\u001b[0m                                 Traceback (most recent call last)",
      "Cell \u001b[0;32mIn[2], line 2\u001b[0m\n\u001b[1;32m      1\u001b[0m \u001b[38;5;66;03m# Faça um programa que peça um número e então mostre a mensagem \"O número informado foi [número]\".\u001b[39;00m\n\u001b[0;32m----> 2\u001b[0m imput()\n",
      "\u001b[0;31mNameError\u001b[0m: name 'imput' is not defined"
     ]
    }
   ],
   "source": [
    "# Faça um programa que peça um número e então mostre a mensagem \"O número informado foi [número]\".\n",
    "imput()"
   ]
  },
  {
   "cell_type": "code",
   "execution_count": null,
   "metadata": {},
   "outputs": [],
   "source": []
  }
 ],
 "metadata": {
  "kernelspec": {
   "display_name": "Python 3 (ipykernel)",
   "language": "python",
   "name": "python3"
  },
  "language_info": {
   "codemirror_mode": {
    "name": "ipython",
    "version": 3
   },
   "file_extension": ".py",
   "mimetype": "text/x-python",
   "name": "python",
   "nbconvert_exporter": "python",
   "pygments_lexer": "ipython3",
   "version": "3.11.5"
  }
 },
 "nbformat": 4,
 "nbformat_minor": 2
}
