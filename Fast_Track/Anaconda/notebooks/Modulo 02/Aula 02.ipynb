{
 "cells": [
  {
   "cell_type": "markdown",
   "id": "be0e4ebb",
   "metadata": {},
   "source": [
    "# Aula 02 | Python Decisão\n",
    "\n",
    "* Estrutura de Decisão\n",
    "* IF, ELIF, ELSE\n",
    "* Exercicios"
   ]
  },
  {
   "cell_type": "markdown",
   "id": "b355694d",
   "metadata": {},
   "source": [
    "Em programação, muitas vezes precisamos tomar decisões com base em certas condições. Os operadores de decisão são utilizados para criar lógica condicional em um programa, permitindo que o programa execute diferentes ações com base em diferentes condições.\n",
    "\n",
    "Em Python, os operadores de decisão mais comuns são o if, elif (abreviação de \"else if\") e else. Eles permitem que você avalie expressões e execute diferentes blocos de código com base no resultado dessa avaliação.\n",
    "\n",
    "Aqui está uma visão geral de como cada um desses operadores funciona:\n",
    "\n",
    "#### if:\n",
    "O if é usado para verificar se uma condição é verdadeira. Se a condição for verdadeira, o bloco de código indentado abaixo do if é executado. Caso contrário, o bloco de código é ignorado.\n",
    "\n",
    "####  elif:\n",
    "O elif é uma abreviação de \"else if\". Ele é usado para verificar condições adicionais se a condição do if não for verdadeira. Você pode ter quantos blocos elif desejar. Assim que uma condição elif for verdadeira, o bloco de código correspondente é executado e o restante das condições é ignorado.\n",
    "\n",
    "####  else:\n",
    "O else é usado como uma espécie de \"curinga\". Se nenhuma das condições anteriores (if ou elif) for verdadeira, o bloco de código indentado abaixo do else será executado.\n",
    "\n",
    "Os operadores de decisão em Python são frequentemente combinados com operadores lógicos, como and, or e not, para criar condições mais complexas."
   ]
  },
  {
   "cell_type": "markdown",
   "id": "15e37fd7",
   "metadata": {},
   "source": [
    "#### Tabela com exemplos:\n",
    "| Operador     | Descrição                                                  | Exemplo                                         |\n",
    "|:--------------:|:-----------------------------------------------------------|:-------------------------------------------------|\n",
    "| `if`         | Verifica se uma condição é verdadeira e executa um bloco de código se verdadeira. | `if idade >= 18:`<br>&nbsp;&nbsp;&nbsp;&nbsp;`print(\"Você é maior de idade.\")` |\n",
    "| `elif`       | Verifica condições adicionais se a condição do `if` não for verdadeira. | `elif idade >= 13:`<br>&nbsp;&nbsp;&nbsp;&nbsp;`print(\"Você é um adolescente.\")` |\n",
    "| `else`       | Executa um bloco de código se nenhuma das condições anteriores for verdadeira. | `else:`<br>&nbsp;&nbsp;&nbsp;&nbsp;`print(\"Você é uma criança.\")` |\n",
    "| `and`        | Retorna verdadeiro se ambas as condições forem verdadeiras. | `if idade >= 18 and possui_cartao:`<br>&nbsp;&nbsp;&nbsp;&nbsp;`print(\"Você pode comprar bebidas alcoólicas.\")` |\n",
    "| `or`         | Retorna verdadeiro se pelo menos uma das condições for verdadeira. | `if dia == \"Sábado\" or dia == \"Domingo\":`<br>&nbsp;&nbsp;&nbsp;&nbsp;`print(\"É fim de semana!\")` |\n",
    "| `not`        | Inverte o resultado de uma condição.                         | `if not possui_cartao:`<br>&nbsp;&nbsp;&nbsp;&nbsp;`print(\"Você não pode comprar bebidas alcoólicas.\")` |\n"
   ]
  },
  {
   "cell_type": "code",
   "execution_count": 1,
   "id": "607870c0",
   "metadata": {},
   "outputs": [
    {
     "name": "stdout",
     "output_type": "stream",
     "text": [
      "Você é maior de idade.\n"
     ]
    }
   ],
   "source": [
    "# if simples:\n",
    "idade = 18\n",
    "\n",
    "if idade >= 18:\n",
    "    print(\"Você é maior de idade.\")\n"
   ]
  },
  {
   "cell_type": "code",
   "execution_count": 2,
   "id": "701d5f71",
   "metadata": {},
   "outputs": [
    {
     "name": "stdout",
     "output_type": "stream",
     "text": [
      "Você é menor de idade.\n"
     ]
    }
   ],
   "source": [
    "# If else\n",
    "idade = 16\n",
    "\n",
    "if idade >= 18:\n",
    "    print(\"Você é maior de idade.\")\n",
    "else:\n",
    "    print(\"Você é menor de idade.\")\n"
   ]
  },
  {
   "cell_type": "code",
   "execution_count": 3,
   "id": "5e795279",
   "metadata": {},
   "outputs": [
    {
     "name": "stdout",
     "output_type": "stream",
     "text": [
      "Você tirou uma nota C.\n"
     ]
    }
   ],
   "source": [
    "# if-elif-else\n",
    "nota = 75\n",
    "\n",
    "if nota >= 90:\n",
    "    print(\"Você tirou uma nota A.\")\n",
    "elif nota >= 80:\n",
    "    print(\"Você tirou uma nota B.\")\n",
    "elif nota >= 70:\n",
    "    print(\"Você tirou uma nota C.\")\n",
    "elif nota >= 60:\n",
    "    print(\"Você tirou uma nota D.\")\n",
    "else:\n",
    "    print(\"Você tirou uma nota F.\")\n"
   ]
  },
  {
   "cell_type": "code",
   "execution_count": 4,
   "id": "ee75274b",
   "metadata": {},
   "outputs": [
    {
     "name": "stdout",
     "output_type": "stream",
     "text": [
      "Você pode comprar bebidas alcoólicas.\n"
     ]
    }
   ],
   "source": [
    "# Operadores lógicos com if:\n",
    "idade = 20\n",
    "possui_cartao = True\n",
    "\n",
    "if idade >= 18 and possui_cartao:\n",
    "    print(\"Você pode comprar bebidas alcoólicas.\")\n",
    "else:\n",
    "    print(\"Você não pode comprar bebidas alcoólicas.\")\n"
   ]
  },
  {
   "cell_type": "code",
   "execution_count": 5,
   "id": "b2ea6950",
   "metadata": {},
   "outputs": [
    {
     "name": "stdout",
     "output_type": "stream",
     "text": [
      "1 é ímpar.\n",
      "2 é par.\n",
      "3 é ímpar.\n",
      "4 é par.\n",
      "5 é ímpar.\n",
      "6 é par.\n",
      "7 é ímpar.\n",
      "8 é par.\n",
      "9 é ímpar.\n",
      "10 é par.\n"
     ]
    }
   ],
   "source": [
    "# if dentro de um loop:\n",
    "numeros = [1, 2, 3, 4, 5, 6, 7, 8, 9, 10]\n",
    "\n",
    "for numero in numeros:\n",
    "    if numero % 2 == 0:\n",
    "        print(f\"{numero} é par.\")\n",
    "    else:\n",
    "        print(f\"{numero} é ímpar.\")\n"
   ]
  },
  {
   "cell_type": "code",
   "execution_count": null,
   "id": "a6b50bd8",
   "metadata": {},
   "outputs": [],
   "source": []
  }
 ],
 "metadata": {
  "kernelspec": {
   "display_name": "Python 3",
   "language": "python",
   "name": "python3"
  },
  "language_info": {
   "codemirror_mode": {
    "name": "ipython",
    "version": 3
   },
   "file_extension": ".py",
   "mimetype": "text/x-python",
   "name": "python",
   "nbconvert_exporter": "python",
   "pygments_lexer": "ipython3",
   "version": "3.8.8"
  }
 },
 "nbformat": 4,
 "nbformat_minor": 5
}
